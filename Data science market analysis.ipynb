{
 "cells": [
  {
   "cell_type": "code",
   "execution_count": 78,
   "metadata": {},
   "outputs": [],
   "source": [
    "import pandas as pd\n",
    "import numpy as np\n",
    "import matplotlib.pyplot as plt\n",
    "import seaborn as sns"
   ]
  },
  {
   "cell_type": "code",
   "execution_count": 79,
   "metadata": {},
   "outputs": [],
   "source": [
    "dataset=pd.read_csv(r'https://raw.githubusercontent.com/ayushmishra190/Data-Science-Job-Market-Analysis/master/DataScience_jobs.csv')"
   ]
  },
  {
   "cell_type": "markdown",
   "metadata": {},
   "source": [
    "### Data preprocessing"
   ]
  },
  {
   "cell_type": "code",
   "execution_count": 80,
   "metadata": {},
   "outputs": [
    {
     "data": {
      "text/html": [
       "<div>\n",
       "<style scoped>\n",
       "    .dataframe tbody tr th:only-of-type {\n",
       "        vertical-align: middle;\n",
       "    }\n",
       "\n",
       "    .dataframe tbody tr th {\n",
       "        vertical-align: top;\n",
       "    }\n",
       "\n",
       "    .dataframe thead th {\n",
       "        text-align: right;\n",
       "    }\n",
       "</style>\n",
       "<table border=\"1\" class=\"dataframe\">\n",
       "  <thead>\n",
       "    <tr style=\"text-align: right;\">\n",
       "      <th></th>\n",
       "      <th>Unnamed: 0</th>\n",
       "      <th>roles</th>\n",
       "      <th>companies</th>\n",
       "      <th>locations</th>\n",
       "      <th>experience</th>\n",
       "      <th>skills</th>\n",
       "    </tr>\n",
       "  </thead>\n",
       "  <tbody>\n",
       "    <tr>\n",
       "      <th>0</th>\n",
       "      <td>0</td>\n",
       "      <td>Data Scientist/ Academic Counselor</td>\n",
       "      <td>GREAT LAKES E-LEARNING SERVICES PRIVATE LIMITED</td>\n",
       "      <td>Chennai, Bengaluru</td>\n",
       "      <td>2-7 Yrs</td>\n",
       "      <td>Data Science\\nArtificial Intelligence\\ntrainin...</td>\n",
       "    </tr>\n",
       "    <tr>\n",
       "      <th>1</th>\n",
       "      <td>1</td>\n",
       "      <td>Data Scientist</td>\n",
       "      <td>Bigshyft Hiring for Decision Point Analytics</td>\n",
       "      <td>Gurgaon</td>\n",
       "      <td>2-5 Yrs</td>\n",
       "      <td>Java\\nHadoop\\nData Mining\\nPython\\nSQL</td>\n",
       "    </tr>\n",
       "    <tr>\n",
       "      <th>2</th>\n",
       "      <td>2</td>\n",
       "      <td>Data Scientist</td>\n",
       "      <td>Shell India Markets Private Limited</td>\n",
       "      <td>Chennai</td>\n",
       "      <td>5-7 Yrs</td>\n",
       "      <td>Data Science\\nMultivariate Analysis\\nFactor An...</td>\n",
       "    </tr>\n",
       "    <tr>\n",
       "      <th>3</th>\n",
       "      <td>3</td>\n",
       "      <td>Senior Data Scientist - IIT/NIT/BITS</td>\n",
       "      <td>AlgonoX Technologies</td>\n",
       "      <td>Hyderabad</td>\n",
       "      <td>2-5 Yrs</td>\n",
       "      <td>Data Science\\nJava\\nC++\\nDocker\\nArtificial In...</td>\n",
       "    </tr>\n",
       "    <tr>\n",
       "      <th>4</th>\n",
       "      <td>4</td>\n",
       "      <td>Data Scientist, NLP</td>\n",
       "      <td>Fractal Analytics Ltd</td>\n",
       "      <td>Bengaluru</td>\n",
       "      <td>3-7 Yrs</td>\n",
       "      <td>deep learning\\ncustomer analytics\\nStatistical...</td>\n",
       "    </tr>\n",
       "    <tr>\n",
       "      <th>...</th>\n",
       "      <td>...</td>\n",
       "      <td>...</td>\n",
       "      <td>...</td>\n",
       "      <td>...</td>\n",
       "      <td>...</td>\n",
       "      <td>...</td>\n",
       "    </tr>\n",
       "    <tr>\n",
       "      <th>995</th>\n",
       "      <td>995</td>\n",
       "      <td>Data Analyst</td>\n",
       "      <td>SUPPORT STAR CORPORATE SERVICES PVT. LTD.</td>\n",
       "      <td>Hyderabad</td>\n",
       "      <td>2-5 Yrs</td>\n",
       "      <td>Statistical modeling\\nmodel validation\\nSAS\\nm...</td>\n",
       "    </tr>\n",
       "    <tr>\n",
       "      <th>996</th>\n",
       "      <td>996</td>\n",
       "      <td>Machine Learning Manager - R/python/java</td>\n",
       "      <td>Career Maker</td>\n",
       "      <td>Hyderabad</td>\n",
       "      <td>3-8 Yrs</td>\n",
       "      <td>Java\\nR\\nC++\\nMap - Reduce\\nMachine Learning M...</td>\n",
       "    </tr>\n",
       "    <tr>\n",
       "      <th>997</th>\n",
       "      <td>997</td>\n",
       "      <td>Senior Manager - Engineering</td>\n",
       "      <td>Indegene Private Limited</td>\n",
       "      <td>Bengaluru</td>\n",
       "      <td>5-10 Yrs</td>\n",
       "      <td>Pytorch\\nTensorflow\\nData Science\\nJava\\nNLP\\n...</td>\n",
       "    </tr>\n",
       "    <tr>\n",
       "      <th>998</th>\n",
       "      <td>998</td>\n",
       "      <td>Data Analyst- ( H/ F )</td>\n",
       "      <td>Societe Generale Global Solution Centre Pvt Ltd</td>\n",
       "      <td>Chennai</td>\n",
       "      <td>12-16 Yrs</td>\n",
       "      <td>Data Science\\nPredictive Modeling\\nR\\nNLP\\nNoS...</td>\n",
       "    </tr>\n",
       "    <tr>\n",
       "      <th>999</th>\n",
       "      <td>999</td>\n",
       "      <td>Director- Machine Learning</td>\n",
       "      <td>Zycus Infotech Pvt Ltd</td>\n",
       "      <td>Bengaluru</td>\n",
       "      <td>14-20 Yrs</td>\n",
       "      <td>Data Science\\nNLP\\ncomputational linguistics\\n...</td>\n",
       "    </tr>\n",
       "  </tbody>\n",
       "</table>\n",
       "<p>1000 rows × 6 columns</p>\n",
       "</div>"
      ],
      "text/plain": [
       "     Unnamed: 0                                     roles  \\\n",
       "0             0        Data Scientist/ Academic Counselor   \n",
       "1             1                            Data Scientist   \n",
       "2             2                            Data Scientist   \n",
       "3             3      Senior Data Scientist - IIT/NIT/BITS   \n",
       "4             4                       Data Scientist, NLP   \n",
       "..          ...                                       ...   \n",
       "995         995                              Data Analyst   \n",
       "996         996  Machine Learning Manager - R/python/java   \n",
       "997         997              Senior Manager - Engineering   \n",
       "998         998                    Data Analyst- ( H/ F )   \n",
       "999         999                Director- Machine Learning   \n",
       "\n",
       "                                           companies           locations  \\\n",
       "0    GREAT LAKES E-LEARNING SERVICES PRIVATE LIMITED  Chennai, Bengaluru   \n",
       "1       Bigshyft Hiring for Decision Point Analytics             Gurgaon   \n",
       "2                Shell India Markets Private Limited             Chennai   \n",
       "3                               AlgonoX Technologies           Hyderabad   \n",
       "4                              Fractal Analytics Ltd           Bengaluru   \n",
       "..                                               ...                 ...   \n",
       "995        SUPPORT STAR CORPORATE SERVICES PVT. LTD.           Hyderabad   \n",
       "996                                     Career Maker           Hyderabad   \n",
       "997                         Indegene Private Limited           Bengaluru   \n",
       "998  Societe Generale Global Solution Centre Pvt Ltd             Chennai   \n",
       "999                           Zycus Infotech Pvt Ltd           Bengaluru   \n",
       "\n",
       "    experience                                             skills  \n",
       "0      2-7 Yrs  Data Science\\nArtificial Intelligence\\ntrainin...  \n",
       "1      2-5 Yrs             Java\\nHadoop\\nData Mining\\nPython\\nSQL  \n",
       "2      5-7 Yrs  Data Science\\nMultivariate Analysis\\nFactor An...  \n",
       "3      2-5 Yrs  Data Science\\nJava\\nC++\\nDocker\\nArtificial In...  \n",
       "4      3-7 Yrs  deep learning\\ncustomer analytics\\nStatistical...  \n",
       "..         ...                                                ...  \n",
       "995    2-5 Yrs  Statistical modeling\\nmodel validation\\nSAS\\nm...  \n",
       "996    3-8 Yrs  Java\\nR\\nC++\\nMap - Reduce\\nMachine Learning M...  \n",
       "997   5-10 Yrs  Pytorch\\nTensorflow\\nData Science\\nJava\\nNLP\\n...  \n",
       "998  12-16 Yrs  Data Science\\nPredictive Modeling\\nR\\nNLP\\nNoS...  \n",
       "999  14-20 Yrs  Data Science\\nNLP\\ncomputational linguistics\\n...  \n",
       "\n",
       "[1000 rows x 6 columns]"
      ]
     },
     "execution_count": 80,
     "metadata": {},
     "output_type": "execute_result"
    }
   ],
   "source": [
    "dataset"
   ]
  },
  {
   "cell_type": "code",
   "execution_count": 81,
   "metadata": {},
   "outputs": [],
   "source": [
    "dataset.drop(['Unnamed: 0'],inplace=True,axis=1)"
   ]
  },
  {
   "cell_type": "code",
   "execution_count": 84,
   "metadata": {},
   "outputs": [
    {
     "data": {
      "text/plain": [
       "roles         0\n",
       "companies     0\n",
       "locations     0\n",
       "experience    0\n",
       "skills        2\n",
       "dtype: int64"
      ]
     },
     "execution_count": 84,
     "metadata": {},
     "output_type": "execute_result"
    }
   ],
   "source": [
    "dataset.isnull().sum()"
   ]
  },
  {
   "cell_type": "code",
   "execution_count": 90,
   "metadata": {},
   "outputs": [],
   "source": [
    "dataset.dropna(inplace=True)"
   ]
  },
  {
   "cell_type": "code",
   "execution_count": 85,
   "metadata": {},
   "outputs": [
    {
     "data": {
      "text/plain": [
       "roles         object\n",
       "companies     object\n",
       "locations     object\n",
       "experience    object\n",
       "skills        object\n",
       "dtype: object"
      ]
     },
     "execution_count": 85,
     "metadata": {},
     "output_type": "execute_result"
    }
   ],
   "source": [
    "dataset.dtypes"
   ]
  },
  {
   "cell_type": "code",
   "execution_count": 86,
   "metadata": {},
   "outputs": [],
   "source": [
    "dataset['experience']=dataset['experience'].apply(lambda x:x.replace('Yrs',''))"
   ]
  },
  {
   "cell_type": "code",
   "execution_count": 91,
   "metadata": {},
   "outputs": [],
   "source": [
    "dataset['skills']=dataset['skills'].apply(lambda x:x.replace('\\n',','))"
   ]
  },
  {
   "cell_type": "code",
   "execution_count": 87,
   "metadata": {},
   "outputs": [
    {
     "data": {
      "text/html": [
       "<div>\n",
       "<style scoped>\n",
       "    .dataframe tbody tr th:only-of-type {\n",
       "        vertical-align: middle;\n",
       "    }\n",
       "\n",
       "    .dataframe tbody tr th {\n",
       "        vertical-align: top;\n",
       "    }\n",
       "\n",
       "    .dataframe thead th {\n",
       "        text-align: right;\n",
       "    }\n",
       "</style>\n",
       "<table border=\"1\" class=\"dataframe\">\n",
       "  <thead>\n",
       "    <tr style=\"text-align: right;\">\n",
       "      <th></th>\n",
       "      <th>roles</th>\n",
       "      <th>companies</th>\n",
       "      <th>locations</th>\n",
       "      <th>experience</th>\n",
       "      <th>skills</th>\n",
       "    </tr>\n",
       "  </thead>\n",
       "  <tbody>\n",
       "    <tr>\n",
       "      <th>0</th>\n",
       "      <td>Data Scientist/ Academic Counselor</td>\n",
       "      <td>GREAT LAKES E-LEARNING SERVICES PRIVATE LIMITED</td>\n",
       "      <td>Chennai, Bengaluru</td>\n",
       "      <td>2-7</td>\n",
       "      <td>Data Science\\nArtificial Intelligence\\ntrainin...</td>\n",
       "    </tr>\n",
       "    <tr>\n",
       "      <th>1</th>\n",
       "      <td>Data Scientist</td>\n",
       "      <td>Bigshyft Hiring for Decision Point Analytics</td>\n",
       "      <td>Gurgaon</td>\n",
       "      <td>2-5</td>\n",
       "      <td>Java\\nHadoop\\nData Mining\\nPython\\nSQL</td>\n",
       "    </tr>\n",
       "    <tr>\n",
       "      <th>2</th>\n",
       "      <td>Data Scientist</td>\n",
       "      <td>Shell India Markets Private Limited</td>\n",
       "      <td>Chennai</td>\n",
       "      <td>5-7</td>\n",
       "      <td>Data Science\\nMultivariate Analysis\\nFactor An...</td>\n",
       "    </tr>\n",
       "    <tr>\n",
       "      <th>3</th>\n",
       "      <td>Senior Data Scientist - IIT/NIT/BITS</td>\n",
       "      <td>AlgonoX Technologies</td>\n",
       "      <td>Hyderabad</td>\n",
       "      <td>2-5</td>\n",
       "      <td>Data Science\\nJava\\nC++\\nDocker\\nArtificial In...</td>\n",
       "    </tr>\n",
       "    <tr>\n",
       "      <th>4</th>\n",
       "      <td>Data Scientist, NLP</td>\n",
       "      <td>Fractal Analytics Ltd</td>\n",
       "      <td>Bengaluru</td>\n",
       "      <td>3-7</td>\n",
       "      <td>deep learning\\ncustomer analytics\\nStatistical...</td>\n",
       "    </tr>\n",
       "    <tr>\n",
       "      <th>...</th>\n",
       "      <td>...</td>\n",
       "      <td>...</td>\n",
       "      <td>...</td>\n",
       "      <td>...</td>\n",
       "      <td>...</td>\n",
       "    </tr>\n",
       "    <tr>\n",
       "      <th>995</th>\n",
       "      <td>Data Analyst</td>\n",
       "      <td>SUPPORT STAR CORPORATE SERVICES PVT. LTD.</td>\n",
       "      <td>Hyderabad</td>\n",
       "      <td>2-5</td>\n",
       "      <td>Statistical modeling\\nmodel validation\\nSAS\\nm...</td>\n",
       "    </tr>\n",
       "    <tr>\n",
       "      <th>996</th>\n",
       "      <td>Machine Learning Manager - R/python/java</td>\n",
       "      <td>Career Maker</td>\n",
       "      <td>Hyderabad</td>\n",
       "      <td>3-8</td>\n",
       "      <td>Java\\nR\\nC++\\nMap - Reduce\\nMachine Learning M...</td>\n",
       "    </tr>\n",
       "    <tr>\n",
       "      <th>997</th>\n",
       "      <td>Senior Manager - Engineering</td>\n",
       "      <td>Indegene Private Limited</td>\n",
       "      <td>Bengaluru</td>\n",
       "      <td>5-10</td>\n",
       "      <td>Pytorch\\nTensorflow\\nData Science\\nJava\\nNLP\\n...</td>\n",
       "    </tr>\n",
       "    <tr>\n",
       "      <th>998</th>\n",
       "      <td>Data Analyst- ( H/ F )</td>\n",
       "      <td>Societe Generale Global Solution Centre Pvt Ltd</td>\n",
       "      <td>Chennai</td>\n",
       "      <td>12-16</td>\n",
       "      <td>Data Science\\nPredictive Modeling\\nR\\nNLP\\nNoS...</td>\n",
       "    </tr>\n",
       "    <tr>\n",
       "      <th>999</th>\n",
       "      <td>Director- Machine Learning</td>\n",
       "      <td>Zycus Infotech Pvt Ltd</td>\n",
       "      <td>Bengaluru</td>\n",
       "      <td>14-20</td>\n",
       "      <td>Data Science\\nNLP\\ncomputational linguistics\\n...</td>\n",
       "    </tr>\n",
       "  </tbody>\n",
       "</table>\n",
       "<p>1000 rows × 5 columns</p>\n",
       "</div>"
      ],
      "text/plain": [
       "                                        roles  \\\n",
       "0          Data Scientist/ Academic Counselor   \n",
       "1                              Data Scientist   \n",
       "2                              Data Scientist   \n",
       "3        Senior Data Scientist - IIT/NIT/BITS   \n",
       "4                         Data Scientist, NLP   \n",
       "..                                        ...   \n",
       "995                              Data Analyst   \n",
       "996  Machine Learning Manager - R/python/java   \n",
       "997              Senior Manager - Engineering   \n",
       "998                    Data Analyst- ( H/ F )   \n",
       "999                Director- Machine Learning   \n",
       "\n",
       "                                           companies           locations  \\\n",
       "0    GREAT LAKES E-LEARNING SERVICES PRIVATE LIMITED  Chennai, Bengaluru   \n",
       "1       Bigshyft Hiring for Decision Point Analytics             Gurgaon   \n",
       "2                Shell India Markets Private Limited             Chennai   \n",
       "3                               AlgonoX Technologies           Hyderabad   \n",
       "4                              Fractal Analytics Ltd           Bengaluru   \n",
       "..                                               ...                 ...   \n",
       "995        SUPPORT STAR CORPORATE SERVICES PVT. LTD.           Hyderabad   \n",
       "996                                     Career Maker           Hyderabad   \n",
       "997                         Indegene Private Limited           Bengaluru   \n",
       "998  Societe Generale Global Solution Centre Pvt Ltd             Chennai   \n",
       "999                           Zycus Infotech Pvt Ltd           Bengaluru   \n",
       "\n",
       "    experience                                             skills  \n",
       "0         2-7   Data Science\\nArtificial Intelligence\\ntrainin...  \n",
       "1         2-5              Java\\nHadoop\\nData Mining\\nPython\\nSQL  \n",
       "2         5-7   Data Science\\nMultivariate Analysis\\nFactor An...  \n",
       "3         2-5   Data Science\\nJava\\nC++\\nDocker\\nArtificial In...  \n",
       "4         3-7   deep learning\\ncustomer analytics\\nStatistical...  \n",
       "..         ...                                                ...  \n",
       "995       2-5   Statistical modeling\\nmodel validation\\nSAS\\nm...  \n",
       "996       3-8   Java\\nR\\nC++\\nMap - Reduce\\nMachine Learning M...  \n",
       "997      5-10   Pytorch\\nTensorflow\\nData Science\\nJava\\nNLP\\n...  \n",
       "998     12-16   Data Science\\nPredictive Modeling\\nR\\nNLP\\nNoS...  \n",
       "999     14-20   Data Science\\nNLP\\ncomputational linguistics\\n...  \n",
       "\n",
       "[1000 rows x 5 columns]"
      ]
     },
     "execution_count": 87,
     "metadata": {},
     "output_type": "execute_result"
    }
   ],
   "source": [
    "dataset"
   ]
  },
  {
   "cell_type": "code",
   "execution_count": 88,
   "metadata": {},
   "outputs": [
    {
     "data": {
      "image/png": "[encoded data removed]",
      "text/plain": [
       "<Figure size 432x288 with 1 Axes>"
      ]
     },
     "metadata": {
      "needs_background": "light"
     },
     "output_type": "display_data"
    }
   ],
   "source": [
    "plt.xlabel('years of exp')\n",
    "dataset.experience.value_counts().nlargest(10).plot(kind='bar')\n",
    "plt.show()"
   ]
  },
  {
   "cell_type": "markdown",
   "metadata": {},
   "source": [
    "###  Location wise oppurtunities in Data science "
   ]
  },
  {
   "cell_type": "code",
   "execution_count": 89,
   "metadata": {},
   "outputs": [
    {
     "data": {
      "text/plain": [
       "<matplotlib.axes._subplots.AxesSubplot at 0x2652e89dee0>"
      ]
     },
     "execution_count": 89,
     "metadata": {},
     "output_type": "execute_result"
    },
    {
     "data": {
      "image/png": "[encoded data removed]",
      "text/plain": [
       "<Figure size 432x288 with 1 Axes>"
      ]
     },
     "metadata": {
      "needs_background": "light"
     },
     "output_type": "display_data"
    }
   ],
   "source": [
    "plt.xlabel('Places')\n",
    "plt.title('Places with most oppurtunities in field of data-science')\n",
    "dataset.locations.value_counts().nlargest(10).plot(kind='bar')"
   ]
  },
  {
   "cell_type": "markdown",
   "metadata": {},
   "source": [
    "# Bengaluru provides the maximum oppurtunity"
   ]
  },
  {
   "cell_type": "markdown",
   "metadata": {},
   "source": [
    "### Maximum people are designated as Data Scientist after atleast 2 years of experience"
   ]
  },
  {
   "cell_type": "code",
   "execution_count": 95,
   "metadata": {},
   "outputs": [
    {
     "data": {
      "text/plain": [
       "<matplotlib.axes._subplots.AxesSubplot at 0x2652fe79220>"
      ]
     },
     "execution_count": 95,
     "metadata": {},
     "output_type": "execute_result"
    },
    {
     "data": {
      "image/png": "[encoded data removed]",
      "text/plain": [
       "<Figure size 432x288 with 1 Axes>"
      ]
     },
     "metadata": {
      "needs_background": "light"
     },
     "output_type": "display_data"
    }
   ],
   "source": [
    "dataset.roles.value_counts().nlargest(10).plot(kind='bar')"
   ]
  },
  {
   "cell_type": "markdown",
   "metadata": {},
   "source": [
    "### Top 10 Companies currently hiring in Data science field"
   ]
  },
  {
   "cell_type": "code",
   "execution_count": 106,
   "metadata": {},
   "outputs": [
    {
     "data": {
      "image/png": "[encoded data removed]",
      "text/plain": [
       "<Figure size 432x288 with 1 Axes>"
      ]
     },
     "metadata": {
      "needs_background": "light"
     },
     "output_type": "display_data"
    }
   ],
   "source": [
    "dataset.companies.value_counts().nlargest(10).plot(kind='bar')\n",
    "plt.show()"
   ]
  },
  {
   "cell_type": "code",
   "execution_count": 110,
   "metadata": {},
   "outputs": [
    {
     "data": {
      "text/plain": [
       "Data Scientist                                                                                                                  7\n",
       "Automation,Technical design,MySQL,Javascript,OLAP,Oracle,MS Office,Analytics                                                    7\n",
       "python,r,tableau,data analysis,data science,data mining,sql                                                                     6\n",
       "E-learning,Automation,Data analysis,tableau,Operations Manager,data science,Manager Program Management,Machine learning         6\n",
       "Computer science,Automation,SAS,SPSS,Data mining,Risk management,Business intelligence,Macros                                   5\n",
       "                                                                                                                               ..\n",
       "ERP,Data analysis,Team Building,SAS,Simulation,Analytical,Social media,Healthcare                                               1\n",
       "Computer science,SAS,Coding,Machine learning,Application development,Data mining,Machinery,Analytics                            1\n",
       "NLP,Data Scientist,Hadoop,Senior Data Scientist,Keras,Spark,Machine Learning,Numpy                                              1\n",
       "kubernetes,scala,anomaly detection,docker,salesforce,deep learning,tensorflow,jupyter                                           1\n",
       "Predictive Modeling,Data Science,Plant Maintenance,Advanced Analytics,Process Mining,Statistical Modeling,Tableau,Sap Lumira    1\n",
       "Name: skills, Length: 715, dtype: int64"
      ]
     },
     "execution_count": 110,
     "metadata": {},
     "output_type": "execute_result"
    }
   ],
   "source": [
    "dataset.skills.value_counts()"
   ]
  },
  {
   "cell_type": "markdown",
   "metadata": {},
   "source": [
    "### Skills majorly  required to enter in a Data Science domain\n",
    "#### 1) Coding skills in python/R   (2)data analysis    (3)sql     (4)Machine learning      (5)deep learning     (6)Hadoop"
   ]
  },
  {
   "cell_type": "code",
   "execution_count": null,
   "metadata": {},
   "outputs": [],
   "source": []
  }
 ],
 "metadata": {
  "kernelspec": {
   "display_name": "Python 3",
   "language": "python",
   "name": "python3"
  },
  "language_info": {
   "codemirror_mode": {
    "name": "ipython",
    "version": 3
   },
   "file_extension": ".py",
   "mimetype": "text/x-python",
   "name": "python",
   "nbconvert_exporter": "python",
   "pygments_lexer": "ipython3",
   "version": "3.8.3"
  }
 },
 "nbformat": 4,
 "nbformat_minor": 4
}
